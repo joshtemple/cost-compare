{
 "cells": [
  {
   "cell_type": "code",
   "execution_count": 1,
   "metadata": {},
   "outputs": [],
   "source": [
    "from client import GurooClient"
   ]
  },
  {
   "cell_type": "code",
   "execution_count": 2,
   "metadata": {},
   "outputs": [],
   "source": [
    "client = GurooClient()"
   ]
  },
  {
   "cell_type": "code",
   "execution_count": 7,
   "metadata": {},
   "outputs": [
    {
     "name": "stdout",
     "output_type": "stream",
     "text": [
      "New York-Newark-Jersey City, NY-NJ-PA\n"
     ]
    }
   ],
   "source": [
    "client.search_locations('New York')"
   ]
  },
  {
   "cell_type": "code",
   "execution_count": 8,
   "metadata": {},
   "outputs": [],
   "source": [
    "client.set_location('New York-Newark-Jersey City, NY-NJ-PA')"
   ]
  },
  {
   "cell_type": "code",
   "execution_count": 59,
   "metadata": {},
   "outputs": [
    {
     "name": "stdout",
     "output_type": "stream",
     "text": [
      "Knee Arthroscopy With ACL Surgery\n",
      "Knee Arthroscopy With Meniscus Surgery\n",
      "Knee Injection\n",
      "Knee Pain - Minor\n",
      "Knee Replacement\n",
      "MRI Scan Without Dye - Knee\n",
      "X-ray Knee\n"
     ]
    }
   ],
   "source": [
    "client.search_bundles('knee')"
   ]
  },
  {
   "cell_type": "code",
   "execution_count": 60,
   "metadata": {},
   "outputs": [
    {
     "name": "stdout",
     "output_type": "stream",
     "text": [
      "Cost for 'Knee Replacement' in New York-Newark-Jersey City, NY-NJ-PA is typically between $30,149 and $59,192.\n"
     ]
    }
   ],
   "source": [
    "client.search('Knee Replacement')"
   ]
  }
 ],
 "metadata": {
  "anaconda-cloud": {},
  "kernelspec": {
   "display_name": "Python [default]",
   "language": "python",
   "name": "python3"
  },
  "language_info": {
   "codemirror_mode": {
    "name": "ipython",
    "version": 3
   },
   "file_extension": ".py",
   "mimetype": "text/x-python",
   "name": "python",
   "nbconvert_exporter": "python",
   "pygments_lexer": "ipython3",
   "version": "3.5.2"
  }
 },
 "nbformat": 4,
 "nbformat_minor": 2
}
